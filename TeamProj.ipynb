{
 "cells": [
  {
   "cell_type": "markdown",
   "metadata": {},
   "source": [
    "# MEERKOSOFT\n",
    "### BDA Team Project: *Predictive Analysis (SVM Classification Model)*\n"
   ]
  },
  {
   "cell_type": "markdown",
   "metadata": {},
   "source": [
    "### IMPORT DATASET"
   ]
  },
  {
   "cell_type": "code",
   "execution_count": 1,
   "metadata": {},
   "outputs": [
    {
     "data": {
      "text/plain": [
       "(3276, 10)"
      ]
     },
     "execution_count": 1,
     "metadata": {},
     "output_type": "execute_result"
    }
   ],
   "source": [
    "import pandas as pd\n",
    "rawdata = pd.read_excel(\"./D1_Water Source Consumability.xlsx\")\n",
    "rawdata.shape\n"
   ]
  },
  {
   "cell_type": "markdown",
   "metadata": {},
   "source": [
    "The data is exported from the Excel sheet and the shape of it before preparation is **3,276 rows** and **10 columns**."
   ]
  },
  {
   "cell_type": "markdown",
   "metadata": {},
   "source": [
    "### DESCRIBE DATA & DATA CLEANSING"
   ]
  },
  {
   "cell_type": "code",
   "execution_count": 2,
   "metadata": {},
   "outputs": [
    {
     "data": {
      "text/plain": [
       "ph          491\n",
       "hardness      0\n",
       "tds           0\n",
       "cl            0\n",
       "thm         162\n",
       "sulfate     781\n",
       "conduct       0\n",
       "carbon        0\n",
       "turbid        0\n",
       "consume       0\n",
       "dtype: int64"
      ]
     },
     "execution_count": 2,
     "metadata": {},
     "output_type": "execute_result"
    }
   ],
   "source": [
    "# check for missing values\n",
    "rawdata.isna().sum()"
   ]
  },
  {
   "cell_type": "markdown",
   "metadata": {},
   "source": [
    "Findings show that there are **three columns** with **multiple missing values**. Below is a summary of missing values along with proposed solution on how to resolve the problem for each column. The columns are sorted by the method that will be used.\n",
    "\n",
    "|Column      |Number of missing values| Method to clean| \n",
    "| - | - |-|\n",
    "|sulfate     |781|Remove Row|\n",
    "|ph          |491|Average filling|\n",
    "|thm         |162|Backwards filling|\n",
    "\n"
   ]
  },
  {
   "cell_type": "code",
   "execution_count": 3,
   "metadata": {},
   "outputs": [
    {
     "data": {
      "text/plain": [
       "ph          0\n",
       "hardness    0\n",
       "tds         0\n",
       "cl          0\n",
       "thm         0\n",
       "sulfate     0\n",
       "conduct     0\n",
       "carbon      0\n",
       "turbid      0\n",
       "consume     0\n",
       "dtype: int64"
      ]
     },
     "execution_count": 3,
     "metadata": {},
     "output_type": "execute_result"
    }
   ],
   "source": [
    "#Remove Rows\n",
    "rawdata = rawdata[rawdata['sulfate'].notna()]\n",
    "\n",
    "#Average filling\n",
    "rawdata['ph'].fillna(value=rawdata['ph'].mean(), inplace=True)\n",
    "\n",
    "#Backwards filling\n",
    "rawdata.loc[:,'thm'] = rawdata.loc[:,'thm'].bfill()\n",
    "\n",
    "rawdata.isna().sum()"
   ]
  },
  {
   "cell_type": "markdown",
   "metadata": {},
   "source": [
    "As shown by the output, the dataset has now been cleaned up from all NAN vlaues."
   ]
  },
  {
   "cell_type": "code",
   "execution_count": 4,
   "metadata": {},
   "outputs": [
    {
     "name": "stdout",
     "output_type": "stream",
     "text": [
      "<class 'pandas.core.frame.DataFrame'>\n",
      "Int64Index: 2495 entries, 1 to 3275\n",
      "Data columns (total 10 columns):\n",
      " #   Column    Non-Null Count  Dtype  \n",
      "---  ------    --------------  -----  \n",
      " 0   ph        2495 non-null   float64\n",
      " 1   hardness  2495 non-null   float64\n",
      " 2   tds       2495 non-null   float64\n",
      " 3   cl        2495 non-null   float64\n",
      " 4   thm       2495 non-null   float64\n",
      " 5   sulfate   2495 non-null   float64\n",
      " 6   conduct   2495 non-null   float64\n",
      " 7   carbon    2495 non-null   float64\n",
      " 8   turbid    2495 non-null   float64\n",
      " 9   consume   2495 non-null   int64  \n",
      "dtypes: float64(9), int64(1)\n",
      "memory usage: 214.4 KB\n"
     ]
    }
   ],
   "source": [
    "rawdata.info()"
   ]
  },
  {
   "cell_type": "markdown",
   "metadata": {},
   "source": [
    "The dataset appears to be fully numerical as float, except for the `consume` column. The column appears to be an integer storing a boolean value in the form of integers of 1 or 0 to indicate a true or false value."
   ]
  },
  {
   "cell_type": "code",
   "execution_count": 5,
   "metadata": {},
   "outputs": [
    {
     "data": {
      "text/html": [
       "<div>\n",
       "<style scoped>\n",
       "    .dataframe tbody tr th:only-of-type {\n",
       "        vertical-align: middle;\n",
       "    }\n",
       "\n",
       "    .dataframe tbody tr th {\n",
       "        vertical-align: top;\n",
       "    }\n",
       "\n",
       "    .dataframe thead th {\n",
       "        text-align: right;\n",
       "    }\n",
       "</style>\n",
       "<table border=\"1\" class=\"dataframe\">\n",
       "  <thead>\n",
       "    <tr style=\"text-align: right;\">\n",
       "      <th></th>\n",
       "      <th>ph</th>\n",
       "      <th>hardness</th>\n",
       "      <th>tds</th>\n",
       "      <th>cl</th>\n",
       "      <th>thm</th>\n",
       "      <th>sulfate</th>\n",
       "      <th>conduct</th>\n",
       "      <th>carbon</th>\n",
       "      <th>turbid</th>\n",
       "      <th>consume</th>\n",
       "    </tr>\n",
       "  </thead>\n",
       "  <tbody>\n",
       "    <tr>\n",
       "      <th>count</th>\n",
       "      <td>2495.000000</td>\n",
       "      <td>2495.000000</td>\n",
       "      <td>2495.000000</td>\n",
       "      <td>2495.000000</td>\n",
       "      <td>2495.000000</td>\n",
       "      <td>2495.000000</td>\n",
       "      <td>2495.000000</td>\n",
       "      <td>2495.000000</td>\n",
       "      <td>2495.000000</td>\n",
       "      <td>2495.000000</td>\n",
       "    </tr>\n",
       "    <tr>\n",
       "      <th>mean</th>\n",
       "      <td>7.083824</td>\n",
       "      <td>196.213489</td>\n",
       "      <td>22065.860761</td>\n",
       "      <td>7.119219</td>\n",
       "      <td>66.182244</td>\n",
       "      <td>333.775777</td>\n",
       "      <td>425.529584</td>\n",
       "      <td>14.328318</td>\n",
       "      <td>3.967982</td>\n",
       "      <td>0.394790</td>\n",
       "    </tr>\n",
       "    <tr>\n",
       "      <th>std</th>\n",
       "      <td>1.460755</td>\n",
       "      <td>32.689075</td>\n",
       "      <td>8763.541797</td>\n",
       "      <td>1.584166</td>\n",
       "      <td>16.097947</td>\n",
       "      <td>41.416840</td>\n",
       "      <td>80.774995</td>\n",
       "      <td>3.308675</td>\n",
       "      <td>0.782624</td>\n",
       "      <td>0.488903</td>\n",
       "    </tr>\n",
       "    <tr>\n",
       "      <th>min</th>\n",
       "      <td>0.227499</td>\n",
       "      <td>47.432000</td>\n",
       "      <td>320.942611</td>\n",
       "      <td>0.352000</td>\n",
       "      <td>8.577013</td>\n",
       "      <td>129.000000</td>\n",
       "      <td>201.619737</td>\n",
       "      <td>2.200000</td>\n",
       "      <td>1.450000</td>\n",
       "      <td>0.000000</td>\n",
       "    </tr>\n",
       "    <tr>\n",
       "      <th>25%</th>\n",
       "      <td>6.284685</td>\n",
       "      <td>176.855409</td>\n",
       "      <td>15623.966290</td>\n",
       "      <td>6.121563</td>\n",
       "      <td>55.463155</td>\n",
       "      <td>307.699498</td>\n",
       "      <td>365.210558</td>\n",
       "      <td>12.084461</td>\n",
       "      <td>3.435883</td>\n",
       "      <td>0.000000</td>\n",
       "    </tr>\n",
       "    <tr>\n",
       "      <th>50%</th>\n",
       "      <td>7.083824</td>\n",
       "      <td>197.142637</td>\n",
       "      <td>21043.626930</td>\n",
       "      <td>7.135063</td>\n",
       "      <td>66.359658</td>\n",
       "      <td>333.073546</td>\n",
       "      <td>421.625238</td>\n",
       "      <td>14.254641</td>\n",
       "      <td>3.965647</td>\n",
       "      <td>0.000000</td>\n",
       "    </tr>\n",
       "    <tr>\n",
       "      <th>75%</th>\n",
       "      <td>7.859798</td>\n",
       "      <td>216.421982</td>\n",
       "      <td>27372.857060</td>\n",
       "      <td>8.106435</td>\n",
       "      <td>77.108846</td>\n",
       "      <td>359.950170</td>\n",
       "      <td>481.037109</td>\n",
       "      <td>16.620006</td>\n",
       "      <td>4.506183</td>\n",
       "      <td>1.000000</td>\n",
       "    </tr>\n",
       "    <tr>\n",
       "      <th>max</th>\n",
       "      <td>14.000000</td>\n",
       "      <td>317.338124</td>\n",
       "      <td>61227.196010</td>\n",
       "      <td>13.127000</td>\n",
       "      <td>124.000000</td>\n",
       "      <td>481.030642</td>\n",
       "      <td>753.342620</td>\n",
       "      <td>27.006707</td>\n",
       "      <td>6.739000</td>\n",
       "      <td>1.000000</td>\n",
       "    </tr>\n",
       "  </tbody>\n",
       "</table>\n",
       "</div>"
      ],
      "text/plain": [
       "                ph     hardness           tds           cl          thm  \\\n",
       "count  2495.000000  2495.000000   2495.000000  2495.000000  2495.000000   \n",
       "mean      7.083824   196.213489  22065.860761     7.119219    66.182244   \n",
       "std       1.460755    32.689075   8763.541797     1.584166    16.097947   \n",
       "min       0.227499    47.432000    320.942611     0.352000     8.577013   \n",
       "25%       6.284685   176.855409  15623.966290     6.121563    55.463155   \n",
       "50%       7.083824   197.142637  21043.626930     7.135063    66.359658   \n",
       "75%       7.859798   216.421982  27372.857060     8.106435    77.108846   \n",
       "max      14.000000   317.338124  61227.196010    13.127000   124.000000   \n",
       "\n",
       "           sulfate      conduct       carbon       turbid      consume  \n",
       "count  2495.000000  2495.000000  2495.000000  2495.000000  2495.000000  \n",
       "mean    333.775777   425.529584    14.328318     3.967982     0.394790  \n",
       "std      41.416840    80.774995     3.308675     0.782624     0.488903  \n",
       "min     129.000000   201.619737     2.200000     1.450000     0.000000  \n",
       "25%     307.699498   365.210558    12.084461     3.435883     0.000000  \n",
       "50%     333.073546   421.625238    14.254641     3.965647     0.000000  \n",
       "75%     359.950170   481.037109    16.620006     4.506183     1.000000  \n",
       "max     481.030642   753.342620    27.006707     6.739000     1.000000  "
      ]
     },
     "execution_count": 5,
     "metadata": {},
     "output_type": "execute_result"
    }
   ],
   "source": [
    "rawdata.describe()"
   ]
  },
  {
   "cell_type": "markdown",
   "metadata": {},
   "source": [
    "A summary of each column is shown above representing the `min` and `max` value of each column from the dataset. The `mean`, `standard deviation` and `IQR` is also shown.\n",
    "\n",
    "Next, we will eliminate any rows for all columns (except `consume`) that exceed the **3 standard deviation value** to remove outlier values."
   ]
  },
  {
   "cell_type": "code",
   "execution_count": 6,
   "metadata": {},
   "outputs": [
    {
     "name": "stderr",
     "output_type": "stream",
     "text": [
      "C:\\Users\\vEonz\\AppData\\Local\\Temp/ipykernel_338376/2132553032.py:10: UserWarning: Boolean Series key will be reindexed to match DataFrame index.\n",
      "  no_outliers = no_outliers[abs(stats.zscore(rawdata[c]) < 3)]\n"
     ]
    },
    {
     "data": {
      "image/png": "[encoded data removed]",
      "text/plain": [
       "<Figure size 1188x756 with 9 Axes>"
      ]
     },
     "metadata": {
      "needs_background": "light"
     },
     "output_type": "display_data"
    },
    {
     "name": "stdout",
     "output_type": "stream",
     "text": [
      "Removed 60 rows.\n"
     ]
    }
   ],
   "source": [
    "from scipy import stats\n",
    "import matplotlib.pyplot as plt\n",
    "numeric_columns= rawdata.loc[:, :'turbid']\n",
    "\n",
    "outlier_columns = list(numeric_columns.columns)\n",
    "\n",
    "no_outliers = rawdata\n",
    "\n",
    "for c in outlier_columns:\n",
    "    no_outliers = no_outliers[abs(stats.zscore(rawdata[c]) < 3)]\n",
    "\n",
    "no_outliers.reset_index(drop=True, inplace=True)  # reset index\n",
    "\n",
    "# Plot pruned columns (red) vs kept columns (green)\n",
    "fig, axs = plt.subplots(3, 3)\n",
    "\n",
    "for indx, ax in enumerate(axs.flat):\n",
    "    ax.hist(rawdata.iloc[:, [indx]], color = 'red', bins = 30)\n",
    "    ax.hist(no_outliers.iloc[:, [indx]], color = 'green', bins = 30)\n",
    "    ax.set_title(rawdata.columns[indx])\n",
    "fig.set_size_inches(16.5, 10.5)\n",
    "plt.show()\n",
    "\n",
    "print(f'Removed {rawdata.shape[0] - no_outliers.shape[0]} rows.')\n",
    "\n",
    "rawdata = no_outliers"
   ]
  },
  {
   "cell_type": "markdown",
   "metadata": {},
   "source": [
    "This shows that only **60 rows** has been removed in total across all columns.\n",
    "\n",
    "Furthermore, all rows with outliers outside the `IQR` for each column will also be dropped. Below, we will draw a visualization of the outliers for each column using box plots."
   ]
  },
  {
   "cell_type": "code",
   "execution_count": 7,
   "metadata": {},
   "outputs": [
    {
     "data": {
      "image/png": "[encoded data removed]",
      "text/plain": [
       "<Figure size 1188x756 with 9 Axes>"
      ]
     },
     "metadata": {
      "needs_background": "light"
     },
     "output_type": "display_data"
    },
    {
     "data": {
      "image/png": "[encoded data removed]",
      "text/plain": [
       "<Figure size 432x288 with 1 Axes>"
      ]
     },
     "metadata": {},
     "output_type": "display_data"
    }
   ],
   "source": [
    "from matplotlib.pyplot import figure\n",
    "fig, axs = plt.subplots(3, 3)\n",
    "\n",
    "for indx, ax in enumerate(axs.flat):\n",
    "    # rawdata.groupby(c).size().plot(kind='pie', autopct='%.2f')\n",
    "    ax.boxplot(rawdata.iloc[:, [indx]], flierprops=dict(markerfacecolor='g', marker='D'))\n",
    "    ax.set_title(rawdata.columns[indx])\n",
    "fig.set_size_inches(16.5, 10.5)\n",
    "plt.show()\n",
    "\n",
    "rawdata.groupby('consume').size().plot(kind='pie', autopct='%.2f')\n",
    "plt.show()"
   ]
  },
  {
   "cell_type": "markdown",
   "metadata": {},
   "source": [
    "Counting outliers outside of the `IQR` range for each column."
   ]
  },
  {
   "cell_type": "code",
   "execution_count": 8,
   "metadata": {},
   "outputs": [
    {
     "data": {
      "text/plain": [
       "ph          108\n",
       "hardness     60\n",
       "tds          21\n",
       "cl           33\n",
       "thm          19\n",
       "sulfate      34\n",
       "conduct       3\n",
       "carbon       16\n",
       "turbid        9\n",
       "consume       0\n",
       "dtype: int64"
      ]
     },
     "execution_count": 8,
     "metadata": {},
     "output_type": "execute_result"
    }
   ],
   "source": [
    "Q1 = rawdata.quantile(0.25)\n",
    "Q3 = rawdata.quantile(0.75)\n",
    "IQR = Q3 - Q1\n",
    "((rawdata < (Q1 - 1.5 * IQR)) | (rawdata > (Q3 + 1.5 * IQR))).sum()"
   ]
  },
  {
   "cell_type": "markdown",
   "metadata": {},
   "source": [
    "|Column|Number of outliers outside IQR|\n",
    "|-|-|\n",
    "|ph       |  108|\n",
    "|hardness |   60|\n",
    "|tds      |   21|\n",
    "|cl       |   33|\n",
    "|thm      |   19|\n",
    "|sulfate  |   34|\n",
    "|conduct  |    3|\n",
    "|carbon   |   16|\n",
    "|turbid   |    9|\n",
    "|consume  |    0|\n",
    "\n",
    "\n",
    "The output above shows the number of rows that fall outside the interquartile range for each column. These outliers will be **omitted**.\n",
    "\n",
    "We can clearly see that no outliers are present in the `consume` column."
   ]
  },
  {
   "cell_type": "markdown",
   "metadata": {},
   "source": [
    "Now we will proceed to cleaning the `IQR` outliers"
   ]
  },
  {
   "cell_type": "code",
   "execution_count": 9,
   "metadata": {},
   "outputs": [
    {
     "name": "stdout",
     "output_type": "stream",
     "text": [
      "ph          0\n",
      "hardness    0\n",
      "tds         0\n",
      "cl          0\n",
      "thm         0\n",
      "sulfate     0\n",
      "conduct     0\n",
      "carbon      0\n",
      "turbid      0\n",
      "consume     0\n",
      "dtype: int64\n",
      "Rows removed: 271\n"
     ]
    }
   ],
   "source": [
    "import numpy as np\n",
    "mask = ((rawdata < (Q1 - 1.5 * IQR)) | (rawdata > (Q3 + 1.5 * IQR)))\n",
    "rawdata[mask] = np.nan\n",
    "before = rawdata.shape[0]\n",
    "rawdata.dropna(inplace=True)\n",
    "after = rawdata.shape[0]\n",
    "print(((rawdata < (Q1 - 1.5 * IQR)) | (rawdata > (Q3 + 1.5 * IQR))).sum())\n",
    "print(f\"Rows removed: {before-after}\")"
   ]
  },
  {
   "cell_type": "markdown",
   "metadata": {},
   "source": [
    "There are no missing values now.<br>\n",
    "All **271 rows** of outliers outside the interquartile range have been removed.\n"
   ]
  },
  {
   "cell_type": "markdown",
   "metadata": {},
   "source": [
    "Next, we reset the indexes of the dataset in order to measure coorelation and prepare it for feature scaling."
   ]
  },
  {
   "cell_type": "code",
   "execution_count": 18,
   "metadata": {},
   "outputs": [
    {
     "data": {
      "text/plain": [
       "(2164, 10)"
      ]
     },
     "execution_count": 18,
     "metadata": {},
     "output_type": "execute_result"
    }
   ],
   "source": [
    "rawdata.reset_index(drop=True, inplace=True)\n",
    "cleaned_dataset = rawdata\n",
    "cleaned_dataset.shape"
   ]
  },
  {
   "cell_type": "markdown",
   "metadata": {},
   "source": [
    "With a total of **1,112 rows** removed, the clean dataset now has **2,164 rows** with the original **10 columns**.<br>\n",
    "\n",
    "We can now print the corrolation graph for this dataset to find any hidden relations between the columns."
   ]
  },
  {
   "cell_type": "code",
   "execution_count": 19,
   "metadata": {},
   "outputs": [
    {
     "data": {
      "image/png": "[encoded data removed]",
      "text/plain": [
       "<Figure size 432x288 with 2 Axes>"
      ]
     },
     "metadata": {
      "needs_background": "light"
     },
     "output_type": "display_data"
    },
    {
     "data": {
      "text/html": [
       "<div>\n",
       "<style scoped>\n",
       "    .dataframe tbody tr th:only-of-type {\n",
       "        vertical-align: middle;\n",
       "    }\n",
       "\n",
       "    .dataframe tbody tr th {\n",
       "        vertical-align: top;\n",
       "    }\n",
       "\n",
       "    .dataframe thead th {\n",
       "        text-align: right;\n",
       "    }\n",
       "</style>\n",
       "<table border=\"1\" class=\"dataframe\">\n",
       "  <thead>\n",
       "    <tr style=\"text-align: right;\">\n",
       "      <th></th>\n",
       "      <th>ph</th>\n",
       "      <th>hardness</th>\n",
       "      <th>tds</th>\n",
       "      <th>cl</th>\n",
       "      <th>thm</th>\n",
       "      <th>sulfate</th>\n",
       "      <th>conduct</th>\n",
       "      <th>carbon</th>\n",
       "      <th>turbid</th>\n",
       "      <th>consume</th>\n",
       "    </tr>\n",
       "  </thead>\n",
       "  <tbody>\n",
       "    <tr>\n",
       "      <th>ph</th>\n",
       "      <td>1.000000</td>\n",
       "      <td>0.130121</td>\n",
       "      <td>-0.078256</td>\n",
       "      <td>-0.056356</td>\n",
       "      <td>0.027318</td>\n",
       "      <td>0.006366</td>\n",
       "      <td>0.005481</td>\n",
       "      <td>0.006361</td>\n",
       "      <td>-0.041429</td>\n",
       "      <td>0.017083</td>\n",
       "    </tr>\n",
       "    <tr>\n",
       "      <th>hardness</th>\n",
       "      <td>0.130121</td>\n",
       "      <td>1.000000</td>\n",
       "      <td>-0.038098</td>\n",
       "      <td>-0.015829</td>\n",
       "      <td>-0.027428</td>\n",
       "      <td>-0.080384</td>\n",
       "      <td>-0.004527</td>\n",
       "      <td>-0.003838</td>\n",
       "      <td>-0.037710</td>\n",
       "      <td>0.011187</td>\n",
       "    </tr>\n",
       "    <tr>\n",
       "      <th>tds</th>\n",
       "      <td>-0.078256</td>\n",
       "      <td>-0.038098</td>\n",
       "      <td>1.000000</td>\n",
       "      <td>-0.044675</td>\n",
       "      <td>-0.008858</td>\n",
       "      <td>-0.163651</td>\n",
       "      <td>0.004842</td>\n",
       "      <td>0.019226</td>\n",
       "      <td>0.024851</td>\n",
       "      <td>0.038003</td>\n",
       "    </tr>\n",
       "    <tr>\n",
       "      <th>cl</th>\n",
       "      <td>-0.056356</td>\n",
       "      <td>-0.015829</td>\n",
       "      <td>-0.044675</td>\n",
       "      <td>1.000000</td>\n",
       "      <td>0.013256</td>\n",
       "      <td>0.059669</td>\n",
       "      <td>-0.036894</td>\n",
       "      <td>0.000305</td>\n",
       "      <td>0.007308</td>\n",
       "      <td>0.006693</td>\n",
       "    </tr>\n",
       "    <tr>\n",
       "      <th>thm</th>\n",
       "      <td>0.027318</td>\n",
       "      <td>-0.027428</td>\n",
       "      <td>-0.008858</td>\n",
       "      <td>0.013256</td>\n",
       "      <td>1.000000</td>\n",
       "      <td>-0.011620</td>\n",
       "      <td>0.005416</td>\n",
       "      <td>-0.002091</td>\n",
       "      <td>-0.015564</td>\n",
       "      <td>-0.001597</td>\n",
       "    </tr>\n",
       "    <tr>\n",
       "      <th>sulfate</th>\n",
       "      <td>0.006366</td>\n",
       "      <td>-0.080384</td>\n",
       "      <td>-0.163651</td>\n",
       "      <td>0.059669</td>\n",
       "      <td>-0.011620</td>\n",
       "      <td>1.000000</td>\n",
       "      <td>-0.010374</td>\n",
       "      <td>0.013458</td>\n",
       "      <td>-0.005839</td>\n",
       "      <td>-0.010943</td>\n",
       "    </tr>\n",
       "    <tr>\n",
       "      <th>conduct</th>\n",
       "      <td>0.005481</td>\n",
       "      <td>-0.004527</td>\n",
       "      <td>0.004842</td>\n",
       "      <td>-0.036894</td>\n",
       "      <td>0.005416</td>\n",
       "      <td>-0.010374</td>\n",
       "      <td>1.000000</td>\n",
       "      <td>0.015968</td>\n",
       "      <td>0.008611</td>\n",
       "      <td>-0.019838</td>\n",
       "    </tr>\n",
       "    <tr>\n",
       "      <th>carbon</th>\n",
       "      <td>0.006361</td>\n",
       "      <td>-0.003838</td>\n",
       "      <td>0.019226</td>\n",
       "      <td>0.000305</td>\n",
       "      <td>-0.002091</td>\n",
       "      <td>0.013458</td>\n",
       "      <td>0.015968</td>\n",
       "      <td>1.000000</td>\n",
       "      <td>-0.015406</td>\n",
       "      <td>-0.010328</td>\n",
       "    </tr>\n",
       "    <tr>\n",
       "      <th>turbid</th>\n",
       "      <td>-0.041429</td>\n",
       "      <td>-0.037710</td>\n",
       "      <td>0.024851</td>\n",
       "      <td>0.007308</td>\n",
       "      <td>-0.015564</td>\n",
       "      <td>-0.005839</td>\n",
       "      <td>0.008611</td>\n",
       "      <td>-0.015406</td>\n",
       "      <td>1.000000</td>\n",
       "      <td>0.021099</td>\n",
       "    </tr>\n",
       "    <tr>\n",
       "      <th>consume</th>\n",
       "      <td>0.017083</td>\n",
       "      <td>0.011187</td>\n",
       "      <td>0.038003</td>\n",
       "      <td>0.006693</td>\n",
       "      <td>-0.001597</td>\n",
       "      <td>-0.010943</td>\n",
       "      <td>-0.019838</td>\n",
       "      <td>-0.010328</td>\n",
       "      <td>0.021099</td>\n",
       "      <td>1.000000</td>\n",
       "    </tr>\n",
       "  </tbody>\n",
       "</table>\n",
       "</div>"
      ],
      "text/plain": [
       "                ph  hardness       tds        cl       thm   sulfate  \\\n",
       "ph        1.000000  0.130121 -0.078256 -0.056356  0.027318  0.006366   \n",
       "hardness  0.130121  1.000000 -0.038098 -0.015829 -0.027428 -0.080384   \n",
       "tds      -0.078256 -0.038098  1.000000 -0.044675 -0.008858 -0.163651   \n",
       "cl       -0.056356 -0.015829 -0.044675  1.000000  0.013256  0.059669   \n",
       "thm       0.027318 -0.027428 -0.008858  0.013256  1.000000 -0.011620   \n",
       "sulfate   0.006366 -0.080384 -0.163651  0.059669 -0.011620  1.000000   \n",
       "conduct   0.005481 -0.004527  0.004842 -0.036894  0.005416 -0.010374   \n",
       "carbon    0.006361 -0.003838  0.019226  0.000305 -0.002091  0.013458   \n",
       "turbid   -0.041429 -0.037710  0.024851  0.007308 -0.015564 -0.005839   \n",
       "consume   0.017083  0.011187  0.038003  0.006693 -0.001597 -0.010943   \n",
       "\n",
       "           conduct    carbon    turbid   consume  \n",
       "ph        0.005481  0.006361 -0.041429  0.017083  \n",
       "hardness -0.004527 -0.003838 -0.037710  0.011187  \n",
       "tds       0.004842  0.019226  0.024851  0.038003  \n",
       "cl       -0.036894  0.000305  0.007308  0.006693  \n",
       "thm       0.005416 -0.002091 -0.015564 -0.001597  \n",
       "sulfate  -0.010374  0.013458 -0.005839 -0.010943  \n",
       "conduct   1.000000  0.015968  0.008611 -0.019838  \n",
       "carbon    0.015968  1.000000 -0.015406 -0.010328  \n",
       "turbid    0.008611 -0.015406  1.000000  0.021099  \n",
       "consume  -0.019838 -0.010328  0.021099  1.000000  "
      ]
     },
     "execution_count": 19,
     "metadata": {},
     "output_type": "execute_result"
    }
   ],
   "source": [
    "import seaborn as sb\n",
    "corr = cleaned_dataset.corr()\n",
    "# plotting correlation heatmap\n",
    "dataplot = sb.heatmap(corr, cmap= \"Reds\")\n",
    "# displaying heatmap\n",
    "plt.show()\n",
    "corr\n"
   ]
  },
  {
   "cell_type": "markdown",
   "metadata": {},
   "source": [
    "A corrolation matrix heatmap provides us crucial information on relations between the features we have from this dataset. <br>\n",
    "The heatmap shows no prominent correaltion between any of the columns presented in our dataset.<br>\n",
    "While the highest positive correlation recorded was between `ph` and `hardenss`, it is still at a low 0.13.<br>\n",
    "The lowest correaltion recorded was between `sulfate` and `tds`, the coefficient for coorelation here was as low as -0.16.<br>\n",
    "Relative to all the columns, a very slight positive corealtion can be noticed in `(cl - sulfate)` and `(tds - consume)`.<br>\n",
    "Overall, this dataset does not hold any correlation that stands out from its features."
   ]
  },
  {
   "cell_type": "markdown",
   "metadata": {},
   "source": [
    "### Feature Scaling"
   ]
  },
  {
   "cell_type": "markdown",
   "metadata": {},
   "source": [
    "There is currently no requirment to engineer new features from the dataset as there is sufficient numerical features already present.<br>\n",
    "Therefore, feature engineering will be skipped. All continuous numeric features that exists will be scaled using Robust Scaling.<br>\n",
    "This is done to bring all values down to as small a range as possible, which is preferable for SVM modelling."
   ]
  },
  {
   "cell_type": "code",
   "execution_count": 20,
   "metadata": {},
   "outputs": [],
   "source": [
    "from sklearn.preprocessing import RobustScaler\n",
    "rb = RobustScaler()\n",
    "scaled = cleaned_dataset\n",
    "columns = list(numeric_columns)\n",
    "for c in numeric_columns:\n",
    "    scaled[c] = rb.fit_transform(scaled[[c]])"
   ]
  },
  {
   "cell_type": "markdown",
   "metadata": {},
   "source": [
    "### BEGIN MODELLING"
   ]
  },
  {
   "cell_type": "markdown",
   "metadata": {},
   "source": [
    "The code below splits the data to 30% testing and 70% training. The code runs the model with default hyperparameters and compares the predicted output to the test output from the split.\n",
    "\n",
    "We will be using the features `ph`, `hardness`, `tds`, `cl`, `thm`, `sulfate`, `conduct`, `carbon`, and `turbid` as inputs to perform predective analytics on the water consumabilty (`consume`) value with SVM classification."
   ]
  },
  {
   "cell_type": "code",
   "execution_count": 13,
   "metadata": {},
   "outputs": [
    {
     "data": {
      "text/html": [
       "<div>\n",
       "<style scoped>\n",
       "    .dataframe tbody tr th:only-of-type {\n",
       "        vertical-align: middle;\n",
       "    }\n",
       "\n",
       "    .dataframe tbody tr th {\n",
       "        vertical-align: top;\n",
       "    }\n",
       "\n",
       "    .dataframe thead th {\n",
       "        text-align: right;\n",
       "    }\n",
       "</style>\n",
       "<table border=\"1\" class=\"dataframe\">\n",
       "  <thead>\n",
       "    <tr style=\"text-align: right;\">\n",
       "      <th></th>\n",
       "      <th>accuracy</th>\n",
       "      <th>precision</th>\n",
       "      <th>recall</th>\n",
       "    </tr>\n",
       "  </thead>\n",
       "  <tbody>\n",
       "    <tr>\n",
       "      <th>0</th>\n",
       "      <td>0.987692</td>\n",
       "      <td>0.991489</td>\n",
       "      <td>0.974895</td>\n",
       "    </tr>\n",
       "  </tbody>\n",
       "</table>\n",
       "</div>"
      ],
      "text/plain": [
       "   accuracy precision    recall\n",
       "0  0.987692  0.991489  0.974895"
      ]
     },
     "execution_count": 13,
     "metadata": {},
     "output_type": "execute_result"
    }
   ],
   "source": [
    "from sklearn import svm, metrics\n",
    "from sklearn.model_selection import train_test_split\n",
    "\n",
    "# separate target from rest of data set\n",
    "consume = scaled['consume']\n",
    "data = scaled.drop(\"consume\", axis=1)\n",
    "\n",
    "# split data and target into train and test\n",
    "train_data, test_data, train_con, test_con = train_test_split(scaled, consume, test_size=0.3)  # 30:70 (test:train)\n",
    "\n",
    "# train model\n",
    "clf = svm.SVC(kernel='sigmoid')\n",
    "clf.fit(train_data, train_con)\n",
    "\n",
    "output = pd.DataFrame(columns= ['Test Data','Predected Data'])\n",
    "output['Test Data'] = test_con\n",
    "\n",
    "# prediction & evaluation\n",
    "y_pred = clf.predict(test_data)\n",
    "y_pred = pd.Series(y_pred,index=output.index)\n",
    "\n",
    "\n",
    "# output.reset_index(drop=True, inplace=True)\n",
    "output['Predected Data'] = y_pred\n",
    "\n",
    "accuracy, precision, recall = metrics.accuracy_score(test_con, y_pred), metrics.precision_score(test_con, y_pred), metrics.recall_score(test_con, y_pred)\n",
    "\n",
    "model_acc = pd.DataFrame(columns=['accuracy', 'precision', 'recall'])\n",
    "d = {\n",
    "        'accuracy': accuracy,\n",
    "        'precision': precision,\n",
    "        'recall': recall,\n",
    "}\n",
    "model_acc.at[0,:] = d\n",
    "   \n",
    "model_acc"
   ]
  },
  {
   "cell_type": "markdown",
   "metadata": {},
   "source": [
    "Because we have used 10 features for our predictive analysis, it is not possible to plot a **decsision boundry** for this SVM output in our case,<br>\n",
    "as it will require a **10th dimension** graph which is not comprehensive. Instead, we printed the first 15 values predected alongside the actual test<br>\n",
    "data to compare the results."
   ]
  },
  {
   "cell_type": "code",
   "execution_count": 14,
   "metadata": {},
   "outputs": [
    {
     "data": {
      "text/html": [
       "<div>\n",
       "<style scoped>\n",
       "    .dataframe tbody tr th:only-of-type {\n",
       "        vertical-align: middle;\n",
       "    }\n",
       "\n",
       "    .dataframe tbody tr th {\n",
       "        vertical-align: top;\n",
       "    }\n",
       "\n",
       "    .dataframe thead th {\n",
       "        text-align: right;\n",
       "    }\n",
       "</style>\n",
       "<table border=\"1\" class=\"dataframe\">\n",
       "  <thead>\n",
       "    <tr style=\"text-align: right;\">\n",
       "      <th></th>\n",
       "      <th>Test Data</th>\n",
       "      <th>Predected Data</th>\n",
       "    </tr>\n",
       "  </thead>\n",
       "  <tbody>\n",
       "    <tr>\n",
       "      <th>511</th>\n",
       "      <td>1</td>\n",
       "      <td>1</td>\n",
       "    </tr>\n",
       "    <tr>\n",
       "      <th>1926</th>\n",
       "      <td>1</td>\n",
       "      <td>1</td>\n",
       "    </tr>\n",
       "    <tr>\n",
       "      <th>1824</th>\n",
       "      <td>1</td>\n",
       "      <td>1</td>\n",
       "    </tr>\n",
       "    <tr>\n",
       "      <th>65</th>\n",
       "      <td>1</td>\n",
       "      <td>1</td>\n",
       "    </tr>\n",
       "    <tr>\n",
       "      <th>353</th>\n",
       "      <td>0</td>\n",
       "      <td>0</td>\n",
       "    </tr>\n",
       "    <tr>\n",
       "      <th>980</th>\n",
       "      <td>1</td>\n",
       "      <td>1</td>\n",
       "    </tr>\n",
       "    <tr>\n",
       "      <th>1671</th>\n",
       "      <td>0</td>\n",
       "      <td>0</td>\n",
       "    </tr>\n",
       "    <tr>\n",
       "      <th>1031</th>\n",
       "      <td>0</td>\n",
       "      <td>0</td>\n",
       "    </tr>\n",
       "    <tr>\n",
       "      <th>2010</th>\n",
       "      <td>1</td>\n",
       "      <td>1</td>\n",
       "    </tr>\n",
       "    <tr>\n",
       "      <th>16</th>\n",
       "      <td>1</td>\n",
       "      <td>1</td>\n",
       "    </tr>\n",
       "    <tr>\n",
       "      <th>77</th>\n",
       "      <td>1</td>\n",
       "      <td>1</td>\n",
       "    </tr>\n",
       "    <tr>\n",
       "      <th>771</th>\n",
       "      <td>0</td>\n",
       "      <td>0</td>\n",
       "    </tr>\n",
       "    <tr>\n",
       "      <th>454</th>\n",
       "      <td>0</td>\n",
       "      <td>0</td>\n",
       "    </tr>\n",
       "    <tr>\n",
       "      <th>1769</th>\n",
       "      <td>1</td>\n",
       "      <td>1</td>\n",
       "    </tr>\n",
       "    <tr>\n",
       "      <th>1521</th>\n",
       "      <td>1</td>\n",
       "      <td>1</td>\n",
       "    </tr>\n",
       "  </tbody>\n",
       "</table>\n",
       "</div>"
      ],
      "text/plain": [
       "      Test Data  Predected Data\n",
       "511           1               1\n",
       "1926          1               1\n",
       "1824          1               1\n",
       "65            1               1\n",
       "353           0               0\n",
       "980           1               1\n",
       "1671          0               0\n",
       "1031          0               0\n",
       "2010          1               1\n",
       "16            1               1\n",
       "77            1               1\n",
       "771           0               0\n",
       "454           0               0\n",
       "1769          1               1\n",
       "1521          1               1"
      ]
     },
     "execution_count": 14,
     "metadata": {},
     "output_type": "execute_result"
    }
   ],
   "source": [
    "output.head(15)"
   ]
  },
  {
   "cell_type": "markdown",
   "metadata": {},
   "source": [
    "Using sigmoid SVM model, we are able to obtain an accuracy of above 97%. The accuracy achived from this predictive model surpasses our desirable threshold of model accuracy which was initially set at 95%. We can validate our model accuracy by running multiple iterations of the model, using random train-test splits ranging from 20% to 30% for testing. The mean and standard deviation of the accuracy can then be graphed to validate the performance of the model.<br>\n",
    "\n",
    "We used 1000 iteration of SVM with the sigmoid kernel. <br>\n",
    "`NUM_ITERATIONS` can be changed to any suitable number of iterations."
   ]
  },
  {
   "cell_type": "code",
   "execution_count": 21,
   "metadata": {},
   "outputs": [
    {
     "name": "stdout",
     "output_type": "stream",
     "text": [
      "Went through 10 iterations.\n",
      "Went through 20 iterations.\n",
      "Went through 30 iterations.\n",
      "Went through 40 iterations.\n",
      "Went through 50 iterations.\n",
      "Went through 60 iterations.\n",
      "Went through 70 iterations.\n",
      "Went through 80 iterations.\n",
      "Went through 90 iterations.\n",
      "Went through 100 iterations.\n",
      "Went through 110 iterations.\n",
      "Went through 120 iterations.\n",
      "Went through 130 iterations.\n",
      "Went through 140 iterations.\n",
      "Went through 150 iterations.\n",
      "Went through 160 iterations.\n",
      "Went through 170 iterations.\n",
      "Went through 180 iterations.\n",
      "Went through 190 iterations.\n",
      "Went through 200 iterations.\n",
      "Went through 210 iterations.\n",
      "Went through 220 iterations.\n",
      "Went through 230 iterations.\n",
      "Went through 240 iterations.\n",
      "Went through 250 iterations.\n",
      "Went through 260 iterations.\n",
      "Went through 270 iterations.\n",
      "Went through 280 iterations.\n",
      "Went through 290 iterations.\n",
      "Went through 300 iterations.\n",
      "Went through 310 iterations.\n",
      "Went through 320 iterations.\n",
      "Went through 330 iterations.\n",
      "Went through 340 iterations.\n",
      "Went through 350 iterations.\n",
      "Went through 360 iterations.\n",
      "Went through 370 iterations.\n",
      "Went through 380 iterations.\n",
      "Went through 390 iterations.\n",
      "Went through 400 iterations.\n",
      "Went through 410 iterations.\n",
      "Went through 420 iterations.\n",
      "Went through 430 iterations.\n",
      "Went through 440 iterations.\n",
      "Went through 450 iterations.\n",
      "Went through 460 iterations.\n",
      "Went through 470 iterations.\n",
      "Went through 480 iterations.\n",
      "Went through 490 iterations.\n",
      "Went through 500 iterations.\n",
      "Went through 510 iterations.\n",
      "Went through 520 iterations.\n",
      "Went through 530 iterations.\n",
      "Went through 540 iterations.\n",
      "Went through 550 iterations.\n",
      "Went through 560 iterations.\n",
      "Went through 570 iterations.\n",
      "Went through 580 iterations.\n",
      "Went through 590 iterations.\n",
      "Went through 600 iterations.\n",
      "Went through 610 iterations.\n",
      "Went through 620 iterations.\n",
      "Went through 630 iterations.\n",
      "Went through 640 iterations.\n",
      "Went through 650 iterations.\n",
      "Went through 660 iterations.\n",
      "Went through 670 iterations.\n",
      "Went through 680 iterations.\n",
      "Went through 690 iterations.\n",
      "Went through 700 iterations.\n",
      "Went through 710 iterations.\n",
      "Went through 720 iterations.\n",
      "Went through 730 iterations.\n",
      "Went through 740 iterations.\n",
      "Went through 750 iterations.\n",
      "Went through 760 iterations.\n",
      "Went through 770 iterations.\n",
      "Went through 780 iterations.\n",
      "Went through 790 iterations.\n",
      "Went through 800 iterations.\n",
      "Went through 810 iterations.\n",
      "Went through 820 iterations.\n",
      "Went through 830 iterations.\n",
      "Went through 840 iterations.\n",
      "Went through 850 iterations.\n",
      "Went through 860 iterations.\n",
      "Went through 870 iterations.\n",
      "Went through 880 iterations.\n",
      "Went through 890 iterations.\n",
      "Went through 900 iterations.\n",
      "Went through 910 iterations.\n",
      "Went through 920 iterations.\n",
      "Went through 930 iterations.\n",
      "Went through 940 iterations.\n",
      "Went through 950 iterations.\n",
      "Went through 960 iterations.\n",
      "Went through 970 iterations.\n",
      "Went through 980 iterations.\n",
      "Went through 990 iterations.\n"
     ]
    },
    {
     "data": {
      "image/png": "[encoded data removed]",
      "text/plain": [
       "<Figure size 432x288 with 1 Axes>"
      ]
     },
     "metadata": {
      "needs_background": "light"
     },
     "output_type": "display_data"
    }
   ],
   "source": [
    "from random import randint, uniform\n",
    "\n",
    "NUM_ITERATIONS = 1000\n",
    "\n",
    "for ctr in range(NUM_ITERATIONS):\n",
    "    # pick random hyperparameters\n",
    "    hp = {\n",
    "        'splitsize': uniform(0.2, 0.3),\n",
    "        'rs': randint(1, 5000),  # random state of train-test split\n",
    "    }\n",
    "\n",
    "    # split data and target into train and test\n",
    "    train_data, test_data, train_con, test_con = train_test_split(scaled, consume, test_size=hp['splitsize'], random_state = hp['rs'])  # 30% training\n",
    "\n",
    "    # train model\n",
    "    clf = svm.SVC(kernel='sigmoid')\n",
    "    clf.fit(train_data, train_con)\n",
    "\n",
    "    # prediction & evaluation\n",
    "    y_pred = clf.predict(test_data)\n",
    "    accuracy, precision, recall = metrics.accuracy_score(test_con, y_pred), metrics.precision_score(test_con, y_pred), metrics.recall_score(test_con, y_pred)\n",
    "    \n",
    "    if (not (ctr % 10) and ctr > 0): print(f'Went through {ctr} iterations.')\n",
    "    d = hp\n",
    "    d['accuracy'] = accuracy\n",
    "    d['precision'] = precision\n",
    "    d['recall'] = recall\n",
    "    model_acc.at[str(ctr), :] = d\n",
    "\n",
    "from scipy.stats import norm\n",
    "import numpy as np\n",
    "\n",
    "model_acc = model_acc.astype({\"accuracy\": float, \"precision\": float, \"recall\": float})\n",
    "\n",
    "ac = model_acc['accuracy']\n",
    "\n",
    "mu, std = norm.fit(ac) \n",
    "plt.hist(ac, bins=10, density=True, alpha=0.6, color='b')\n",
    "xmin, xmax = plt.xlim()\n",
    "x = np.linspace(xmin, xmax, 100)\n",
    "p = norm.pdf(x, mu, std)\n",
    "plt.plot(x, p, 'k', linewidth=2)\n",
    "title = \"Accuracy\\nmu: {:.3f} std:{:.5f}\".format(mu, std)\n",
    "plt.title(title)\n",
    "plt.xlabel(\"Model Accuracy\") \n",
    "plt.ylabel(\"Probability Density\")\n",
    "plt.show()\n"
   ]
  },
  {
   "cell_type": "markdown",
   "metadata": {},
   "source": [
    "Visualised in the above graph is the quality of the sigmoid SVM model after 1000 iterations.\n",
    "\n",
    "The quality of the prediction model is validated, as the accuracy after using the model with random and shuffled splits remains at an average of `99%` with a low `0.004` standard deviation.\n",
    "\n",
    "With our model validated, we can conclude our predective analysis."
   ]
  }
 ],
 "metadata": {
  "interpreter": {
   "hash": "9c33282580fabc83ccc24f32e11342aabaa625956561ddb73d4f78c402aba2f6"
  },
  "kernelspec": {
   "display_name": "Python 3.9.7 ('base')",
   "language": "python",
   "name": "python3"
  },
  "language_info": {
   "codemirror_mode": {
    "name": "ipython",
    "version": 3
   },
   "file_extension": ".py",
   "mimetype": "text/x-python",
   "name": "python",
   "nbconvert_exporter": "python",
   "pygments_lexer": "ipython3",
   "version": "3.9.7"
  },
  "orig_nbformat": 4
 },
 "nbformat": 4,
 "nbformat_minor": 2
}
