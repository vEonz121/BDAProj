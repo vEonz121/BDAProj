{
 "cells": [
  {
   "cell_type": "markdown",
   "metadata": {},
   "source": [
    "#### BDA Team Project: \n",
    "#### MEERKOSOFT\n",
    "\n",
    "#### Predictive Analysis: SVM Classification Model\n"
   ]
  },
  {
   "cell_type": "markdown",
   "metadata": {},
   "source": [
    "### IMPORT DATASET"
   ]
  },
  {
   "cell_type": "code",
   "execution_count": 1,
   "metadata": {},
   "outputs": [
    {
     "data": {
      "text/plain": [
       "(3276, 10)"
      ]
     },
     "execution_count": 1,
     "metadata": {},
     "output_type": "execute_result"
    }
   ],
   "source": [
    "import pandas as pd\n",
    "\n",
    "rawdata = pd.read_excel(\"./D1_Water Source Consumability.xlsx\")\n",
    "\n",
    "rawdata.shape\n"
   ]
  },
  {
   "cell_type": "markdown",
   "metadata": {},
   "source": [
    "The data is exported from the excel sheet and the shape of it before preperation is 3,276 rows and 10 columns."
   ]
  },
  {
   "cell_type": "markdown",
   "metadata": {},
   "source": [
    "### DESCRIBE DATA & DATA CLEANSING"
   ]
  },
  {
   "cell_type": "code",
   "execution_count": 2,
   "metadata": {},
   "outputs": [
    {
     "data": {
      "text/plain": [
       "ph          491\n",
       "hardness      0\n",
       "tds           0\n",
       "cl            0\n",
       "thm         162\n",
       "sulfate     781\n",
       "conduct       0\n",
       "carbon        0\n",
       "turbid        0\n",
       "consume       0\n",
       "dtype: int64"
      ]
     },
     "execution_count": 2,
     "metadata": {},
     "output_type": "execute_result"
    }
   ],
   "source": [
    "# check for missing values\n",
    "rawdata.isna().sum()"
   ]
  },
  {
   "cell_type": "markdown",
   "metadata": {},
   "source": [
    "Findings show that there are three columns with multiple missing values. Below is a summery of missing values along with proposed solution on how to resolve the problem for each column. The colomns are sorted by the method that will be used.\n",
    "\n",
    "|Column      |Number of missing values| Method to clean| \n",
    "| - | - |-|\n",
    "|sulfate     |781|Remove Row|\n",
    "|ph          |491|Average filling|\n",
    "|thm         |162|Backwards filling|\n",
    "\n"
   ]
  },
  {
   "cell_type": "code",
   "execution_count": 3,
   "metadata": {},
   "outputs": [
    {
     "data": {
      "text/plain": [
       "ph          0\n",
       "hardness    0\n",
       "tds         0\n",
       "cl          0\n",
       "thm         0\n",
       "sulfate     0\n",
       "conduct     0\n",
       "carbon      0\n",
       "turbid      0\n",
       "consume     0\n",
       "dtype: int64"
      ]
     },
     "execution_count": 3,
     "metadata": {},
     "output_type": "execute_result"
    }
   ],
   "source": [
    "#Remove Rows\n",
    "rawdata = rawdata[rawdata['sulfate'].notna()]\n",
    "\n",
    "#Average filling\n",
    "rawdata['ph'].fillna(value=rawdata['ph'].mean(), inplace=True)\n",
    "\n",
    "#Backwards filling\n",
    "rawdata.loc[:,'thm'] = rawdata.loc[:,'thm'].bfill()\n",
    "\n",
    "rawdata.isna().sum()"
   ]
  },
  {
   "cell_type": "code",
   "execution_count": 4,
   "metadata": {},
   "outputs": [
    {
     "name": "stdout",
     "output_type": "stream",
     "text": [
      "<class 'pandas.core.frame.DataFrame'>\n",
      "Int64Index: 2495 entries, 1 to 3275\n",
      "Data columns (total 10 columns):\n",
      " #   Column    Non-Null Count  Dtype  \n",
      "---  ------    --------------  -----  \n",
      " 0   ph        2495 non-null   float64\n",
      " 1   hardness  2495 non-null   float64\n",
      " 2   tds       2495 non-null   float64\n",
      " 3   cl        2495 non-null   float64\n",
      " 4   thm       2495 non-null   float64\n",
      " 5   sulfate   2495 non-null   float64\n",
      " 6   conduct   2495 non-null   float64\n",
      " 7   carbon    2495 non-null   float64\n",
      " 8   turbid    2495 non-null   float64\n",
      " 9   consume   2495 non-null   int64  \n",
      "dtypes: float64(9), int64(1)\n",
      "memory usage: 214.4 KB\n"
     ]
    }
   ],
   "source": [
    "rawdata.info()"
   ]
  },
  {
   "cell_type": "markdown",
   "metadata": {},
   "source": [
    "The dataset appears to be fully numerical as float, except for the consume column. The consume colomn appears to be an integer storing a bolean value of 1 or 0 to indicate a true or false value using the integer type."
   ]
  },
  {
   "cell_type": "code",
   "execution_count": 5,
   "metadata": {},
   "outputs": [
    {
     "data": {
      "text/html": [
       "<div>\n",
       "<style scoped>\n",
       "    .dataframe tbody tr th:only-of-type {\n",
       "        vertical-align: middle;\n",
       "    }\n",
       "\n",
       "    .dataframe tbody tr th {\n",
       "        vertical-align: top;\n",
       "    }\n",
       "\n",
       "    .dataframe thead th {\n",
       "        text-align: right;\n",
       "    }\n",
       "</style>\n",
       "<table border=\"1\" class=\"dataframe\">\n",
       "  <thead>\n",
       "    <tr style=\"text-align: right;\">\n",
       "      <th></th>\n",
       "      <th>ph</th>\n",
       "      <th>hardness</th>\n",
       "      <th>tds</th>\n",
       "      <th>cl</th>\n",
       "      <th>thm</th>\n",
       "      <th>sulfate</th>\n",
       "      <th>conduct</th>\n",
       "      <th>carbon</th>\n",
       "      <th>turbid</th>\n",
       "      <th>consume</th>\n",
       "    </tr>\n",
       "  </thead>\n",
       "  <tbody>\n",
       "    <tr>\n",
       "      <th>count</th>\n",
       "      <td>2495.000000</td>\n",
       "      <td>2495.000000</td>\n",
       "      <td>2495.000000</td>\n",
       "      <td>2495.000000</td>\n",
       "      <td>2495.000000</td>\n",
       "      <td>2495.000000</td>\n",
       "      <td>2495.000000</td>\n",
       "      <td>2495.000000</td>\n",
       "      <td>2495.000000</td>\n",
       "      <td>2495.000000</td>\n",
       "    </tr>\n",
       "    <tr>\n",
       "      <th>mean</th>\n",
       "      <td>7.083824</td>\n",
       "      <td>196.213489</td>\n",
       "      <td>22065.860761</td>\n",
       "      <td>7.119219</td>\n",
       "      <td>66.182244</td>\n",
       "      <td>333.775777</td>\n",
       "      <td>425.529584</td>\n",
       "      <td>14.328318</td>\n",
       "      <td>3.967982</td>\n",
       "      <td>0.394790</td>\n",
       "    </tr>\n",
       "    <tr>\n",
       "      <th>std</th>\n",
       "      <td>1.460755</td>\n",
       "      <td>32.689075</td>\n",
       "      <td>8763.541797</td>\n",
       "      <td>1.584166</td>\n",
       "      <td>16.097947</td>\n",
       "      <td>41.416840</td>\n",
       "      <td>80.774995</td>\n",
       "      <td>3.308675</td>\n",
       "      <td>0.782624</td>\n",
       "      <td>0.488903</td>\n",
       "    </tr>\n",
       "    <tr>\n",
       "      <th>min</th>\n",
       "      <td>0.227499</td>\n",
       "      <td>47.432000</td>\n",
       "      <td>320.942611</td>\n",
       "      <td>0.352000</td>\n",
       "      <td>8.577013</td>\n",
       "      <td>129.000000</td>\n",
       "      <td>201.619737</td>\n",
       "      <td>2.200000</td>\n",
       "      <td>1.450000</td>\n",
       "      <td>0.000000</td>\n",
       "    </tr>\n",
       "    <tr>\n",
       "      <th>25%</th>\n",
       "      <td>6.284685</td>\n",
       "      <td>176.855409</td>\n",
       "      <td>15623.966290</td>\n",
       "      <td>6.121563</td>\n",
       "      <td>55.463155</td>\n",
       "      <td>307.699498</td>\n",
       "      <td>365.210558</td>\n",
       "      <td>12.084461</td>\n",
       "      <td>3.435883</td>\n",
       "      <td>0.000000</td>\n",
       "    </tr>\n",
       "    <tr>\n",
       "      <th>50%</th>\n",
       "      <td>7.083824</td>\n",
       "      <td>197.142637</td>\n",
       "      <td>21043.626930</td>\n",
       "      <td>7.135063</td>\n",
       "      <td>66.359658</td>\n",
       "      <td>333.073546</td>\n",
       "      <td>421.625238</td>\n",
       "      <td>14.254641</td>\n",
       "      <td>3.965647</td>\n",
       "      <td>0.000000</td>\n",
       "    </tr>\n",
       "    <tr>\n",
       "      <th>75%</th>\n",
       "      <td>7.859798</td>\n",
       "      <td>216.421982</td>\n",
       "      <td>27372.857060</td>\n",
       "      <td>8.106435</td>\n",
       "      <td>77.108846</td>\n",
       "      <td>359.950170</td>\n",
       "      <td>481.037109</td>\n",
       "      <td>16.620006</td>\n",
       "      <td>4.506183</td>\n",
       "      <td>1.000000</td>\n",
       "    </tr>\n",
       "    <tr>\n",
       "      <th>max</th>\n",
       "      <td>14.000000</td>\n",
       "      <td>317.338124</td>\n",
       "      <td>61227.196010</td>\n",
       "      <td>13.127000</td>\n",
       "      <td>124.000000</td>\n",
       "      <td>481.030642</td>\n",
       "      <td>753.342620</td>\n",
       "      <td>27.006707</td>\n",
       "      <td>6.739000</td>\n",
       "      <td>1.000000</td>\n",
       "    </tr>\n",
       "  </tbody>\n",
       "</table>\n",
       "</div>"
      ],
      "text/plain": [
       "                ph     hardness           tds           cl          thm  \\\n",
       "count  2495.000000  2495.000000   2495.000000  2495.000000  2495.000000   \n",
       "mean      7.083824   196.213489  22065.860761     7.119219    66.182244   \n",
       "std       1.460755    32.689075   8763.541797     1.584166    16.097947   \n",
       "min       0.227499    47.432000    320.942611     0.352000     8.577013   \n",
       "25%       6.284685   176.855409  15623.966290     6.121563    55.463155   \n",
       "50%       7.083824   197.142637  21043.626930     7.135063    66.359658   \n",
       "75%       7.859798   216.421982  27372.857060     8.106435    77.108846   \n",
       "max      14.000000   317.338124  61227.196010    13.127000   124.000000   \n",
       "\n",
       "           sulfate      conduct       carbon       turbid      consume  \n",
       "count  2495.000000  2495.000000  2495.000000  2495.000000  2495.000000  \n",
       "mean    333.775777   425.529584    14.328318     3.967982     0.394790  \n",
       "std      41.416840    80.774995     3.308675     0.782624     0.488903  \n",
       "min     129.000000   201.619737     2.200000     1.450000     0.000000  \n",
       "25%     307.699498   365.210558    12.084461     3.435883     0.000000  \n",
       "50%     333.073546   421.625238    14.254641     3.965647     0.000000  \n",
       "75%     359.950170   481.037109    16.620006     4.506183     1.000000  \n",
       "max     481.030642   753.342620    27.006707     6.739000     1.000000  "
      ]
     },
     "execution_count": 5,
     "metadata": {},
     "output_type": "execute_result"
    }
   ],
   "source": [
    "rawdata.describe()"
   ]
  },
  {
   "cell_type": "markdown",
   "metadata": {},
   "source": [
    "A summery of each column is shown above representing the min and max value of each column from the dataset. the mean, standard deviation and IQR is also shown.\n",
    "\n",
    "Next, we will elemenate any rows for all columns (except 'consume') that exceed the 3 standard deviation value to remove outlier values."
   ]
  },
  {
   "cell_type": "code",
   "execution_count": 6,
   "metadata": {},
   "outputs": [
    {
     "name": "stderr",
     "output_type": "stream",
     "text": [
      "C:\\Users\\vEonz\\AppData\\Local\\Temp/ipykernel_262248/2000245660.py:10: UserWarning: Boolean Series key will be reindexed to match DataFrame index.\n",
      "  no_outliers = no_outliers[abs(stats.zscore(rawdata[c]) < 3)]\n"
     ]
    },
    {
     "data": {
      "image/png": "[encoded data removed]",
      "text/plain": [
       "<Figure size 432x288 with 1 Axes>"
      ]
     },
     "metadata": {
      "needs_background": "light"
     },
     "output_type": "display_data"
    },
    {
     "data": {
      "image/png": "[encoded data removed]",
      "text/plain": [
       "<Figure size 432x288 with 1 Axes>"
      ]
     },
     "metadata": {
      "needs_background": "light"
     },
     "output_type": "display_data"
    },
    {
     "data": {
      "image/png": "[encoded data removed]",
      "text/plain": [
       "<Figure size 432x288 with 1 Axes>"
      ]
     },
     "metadata": {
      "needs_background": "light"
     },
     "output_type": "display_data"
    },
    {
     "data": {
      "image/png": "[encoded data removed]",
      "text/plain": [
       "<Figure size 432x288 with 1 Axes>"
      ]
     },
     "metadata": {
      "needs_background": "light"
     },
     "output_type": "display_data"
    },
    {
     "data": {
      "image/png": "[encoded data removed]",
      "text/plain": [
       "<Figure size 432x288 with 1 Axes>"
      ]
     },
     "metadata": {
      "needs_background": "light"
     },
     "output_type": "display_data"
    },
    {
     "data": {
      "image/png": "[encoded data removed]",
      "text/plain": [
       "<Figure size 432x288 with 1 Axes>"
      ]
     },
     "metadata": {
      "needs_background": "light"
     },
     "output_type": "display_data"
    },
    {
     "data": {
      "image/png": "[encoded data removed]",
      "text/plain": [
       "<Figure size 432x288 with 1 Axes>"
      ]
     },
     "metadata": {
      "needs_background": "light"
     },
     "output_type": "display_data"
    },
    {
     "data": {
      "image/png": "[encoded data removed]",
      "text/plain": [
       "<Figure size 432x288 with 1 Axes>"
      ]
     },
     "metadata": {
      "needs_background": "light"
     },
     "output_type": "display_data"
    },
    {
     "data": {
      "image/png": "[encoded data removed]",
      "text/plain": [
       "<Figure size 432x288 with 1 Axes>"
      ]
     },
     "metadata": {
      "needs_background": "light"
     },
     "output_type": "display_data"
    },
    {
     "name": "stdout",
     "output_type": "stream",
     "text": [
      "Removed 60 rows.\n"
     ]
    }
   ],
   "source": [
    "from scipy import stats\n",
    "import matplotlib.pyplot as plt\n",
    "numeric_columns= rawdata.loc[:, :'turbid']\n",
    "\n",
    "outlier_columns = list(numeric_columns.columns)\n",
    "\n",
    "no_outliers = rawdata\n",
    "\n",
    "for c in outlier_columns:\n",
    "        no_outliers = no_outliers[abs(stats.zscore(rawdata[c]) < 3)]\n",
    "\n",
    "no_outliers.reset_index(drop=True, inplace=True)  # reset index\n",
    "\n",
    "\n",
    "\n",
    "# plot pruned columns: visible red has been pruned\n",
    "\n",
    "for c in outlier_columns:\n",
    "    plt.hist(rawdata[c], color = 'red', bins = 30)\n",
    "    plt.hist(no_outliers[c], color = 'green', bins = 30)\n",
    "    plt.title(c)\n",
    "\n",
    "    plt.show()\n",
    "print(f'Removed {rawdata.shape[0] - no_outliers.shape[0]} rows.')\n",
    "\n",
    "rawdata = no_outliers"
   ]
  },
  {
   "cell_type": "markdown",
   "metadata": {},
   "source": [
    "This shows that only 60 rows has been removed in total.\n",
    "\n",
    "Furthermore, all rows with outliers outside the IQR for each column will also be dropped."
   ]
  },
  {
   "cell_type": "code",
   "execution_count": 7,
   "metadata": {},
   "outputs": [
    {
     "data": {
      "image/png": "[encoded data removed]",
      "text/plain": [
       "<Figure size 432x288 with 1 Axes>"
      ]
     },
     "metadata": {
      "needs_background": "light"
     },
     "output_type": "display_data"
    },
    {
     "data": {
      "image/png": "[encoded data removed]",
      "text/plain": [
       "<Figure size 432x288 with 1 Axes>"
      ]
     },
     "metadata": {
      "needs_background": "light"
     },
     "output_type": "display_data"
    },
    {
     "data": {
      "image/png": "[encoded data removed]",
      "text/plain": [
       "<Figure size 432x288 with 1 Axes>"
      ]
     },
     "metadata": {
      "needs_background": "light"
     },
     "output_type": "display_data"
    },
    {
     "data": {
      "image/png": "[encoded data removed]",
      "text/plain": [
       "<Figure size 432x288 with 1 Axes>"
      ]
     },
     "metadata": {
      "needs_background": "light"
     },
     "output_type": "display_data"
    },
    {
     "data": {
      "image/png": "[encoded data removed]",
      "text/plain": [
       "<Figure size 432x288 with 1 Axes>"
      ]
     },
     "metadata": {
      "needs_background": "light"
     },
     "output_type": "display_data"
    },
    {
     "data": {
      "image/png": "[encoded data removed]",
      "text/plain": [
       "<Figure size 432x288 with 1 Axes>"
      ]
     },
     "metadata": {
      "needs_background": "light"
     },
     "output_type": "display_data"
    },
    {
     "data": {
      "image/png": "[encoded data removed]",
      "text/plain": [
       "<Figure size 432x288 with 1 Axes>"
      ]
     },
     "metadata": {
      "needs_background": "light"
     },
     "output_type": "display_data"
    },
    {
     "data": {
      "image/png": "[encoded data removed]",
      "text/plain": [
       "<Figure size 432x288 with 1 Axes>"
      ]
     },
     "metadata": {
      "needs_background": "light"
     },
     "output_type": "display_data"
    },
    {
     "data": {
      "image/png": "[encoded data removed]",
      "text/plain": [
       "<Figure size 432x288 with 1 Axes>"
      ]
     },
     "metadata": {
      "needs_background": "light"
     },
     "output_type": "display_data"
    },
    {
     "data": {
      "image/png": "[encoded data removed]",
      "text/plain": [
       "<Figure size 432x288 with 1 Axes>"
      ]
     },
     "metadata": {},
     "output_type": "display_data"
    }
   ],
   "source": [
    "# visualise columns for outliers using box plot\n",
    "\n",
    "for c in rawdata.columns:\n",
    "    if c == \"consume\":\n",
    "        rawdata.groupby(c).size().plot(kind='pie', autopct='%.2f')\n",
    "    else:\n",
    "        plt.boxplot(rawdata[c],flierprops=dict(markerfacecolor='g', marker='D'))\n",
    "    plt.title(c)\n",
    "    plt.show()\n",
    "    "
   ]
  },
  {
   "cell_type": "code",
   "execution_count": 8,
   "metadata": {},
   "outputs": [
    {
     "data": {
      "text/plain": [
       "ph          108\n",
       "hardness     60\n",
       "tds          21\n",
       "cl           33\n",
       "thm          19\n",
       "sulfate      34\n",
       "conduct       3\n",
       "carbon       16\n",
       "turbid        9\n",
       "consume       0\n",
       "dtype: int64"
      ]
     },
     "execution_count": 8,
     "metadata": {},
     "output_type": "execute_result"
    }
   ],
   "source": [
    "#Count outliers for each columns\n",
    "\n",
    "Q1 = rawdata.quantile(0.25)\n",
    "Q3 = rawdata.quantile(0.75)\n",
    "IQR = Q3 - Q1\n",
    "((rawdata < (Q1 - 1.5 * IQR)) | (rawdata > (Q3 + 1.5 * IQR))).sum()\n",
    "\n"
   ]
  },
  {
   "cell_type": "markdown",
   "metadata": {},
   "source": [
    "|Column|Number of outliers outside IQR|\n",
    "|-|-|\n",
    "|ph       |  108|\n",
    "|hardness |   60|\n",
    "|tds      |   21|\n",
    "|cl       |   33|\n",
    "|thm      |   19|\n",
    "|sulfate  |   34|\n",
    "|conduct  |    3|\n",
    "|carbon   |   16|\n",
    "|turbid   |    9|\n",
    "|consume  |    0|\n",
    "\n",
    "\n",
    "The output above shows the number of rows that fall outside the the interquartile range for each column. These outliers will be ommited.\n",
    "\n",
    "We can clearly see that the 'consume' column will not be affected."
   ]
  },
  {
   "cell_type": "code",
   "execution_count": 9,
   "metadata": {},
   "outputs": [
    {
     "name": "stdout",
     "output_type": "stream",
     "text": [
      "ph          0\n",
      "hardness    0\n",
      "tds         0\n",
      "cl          0\n",
      "thm         0\n",
      "sulfate     0\n",
      "conduct     0\n",
      "carbon      0\n",
      "turbid      0\n",
      "consume     0\n",
      "dtype: int64\n",
      "Rows removed: 271\n"
     ]
    }
   ],
   "source": [
    "import numpy as np\n",
    "mask = ((rawdata < (Q1 - 1.5 * IQR)) | (rawdata > (Q3 + 1.5 * IQR)))\n",
    "rawdata[mask] = np.nan\n",
    "before = rawdata.shape[0]\n",
    "rawdata.dropna(inplace=True)\n",
    "after = rawdata.shape[0]\n",
    "print(((rawdata < (Q1 - 1.5 * IQR)) | (rawdata > (Q3 + 1.5 * IQR))).sum())\n",
    "print(f\"Rows removed: {before-after}\")\n"
   ]
  },
  {
   "cell_type": "markdown",
   "metadata": {},
   "source": [
    "There are no missing values now.<br>\n",
    "All 271 rows of outliers outside the interquartile range have been removed.\n"
   ]
  },
  {
   "cell_type": "code",
   "execution_count": 10,
   "metadata": {},
   "outputs": [],
   "source": [
    "rawdata.reset_index(drop=True, inplace=True)  # reset index\n",
    "\n",
    "rawdata.shape\n",
    "\n",
    "cleaned_dataset = rawdata"
   ]
  },
  {
   "cell_type": "markdown",
   "metadata": {},
   "source": [
    "The clean dataset now has 2,164 rows with the original 10 columns."
   ]
  },
  {
   "cell_type": "markdown",
   "metadata": {},
   "source": [
    "### FEATURE ENGINEERING/SELECTION"
   ]
  },
  {
   "cell_type": "markdown",
   "metadata": {},
   "source": [
    "New fetuers will be engneered from existing numeric columns using 'Interaction' methods.<br>\n",
    "All continuous numeric columns will be scaled using Robust Scaling.<br>\n",
    "This is done to bring all values down to as small a range as possible which is preferrable for SVM modelling."
   ]
  },
  {
   "cell_type": "code",
   "execution_count": 11,
   "metadata": {},
   "outputs": [],
   "source": [
    "# from sklearn.preprocessing import OneHotEncoder\n",
    "\n",
    "# ohe = OneHotEncoder()\n",
    "\n",
    "# class_columns = {\n",
    "#     'sex': ['sex_female','sex_male'],\n",
    "#     'cp': ['cp_type0','cp_type1','cp_type2','cp_type3'],\n",
    "#     'fbs': ['fbs_false','fbs_true'],\n",
    "#     'restecg': ['restecg_type0','restecg_type1','restecg_type2'],\n",
    "#     'thal': ['thal_type0','thal_type1','thal_type2','thal_type3'],\n",
    "#     'exang': ['exang_false','exang_true']\n",
    "# }\n",
    "\n",
    "# encoded = no_outliers\n",
    "\n",
    "# for c, encodedc in class_columns.items():\n",
    "#     # create feature columns as array\n",
    "#     features_arr = ohe.fit_transform(no_outliers[[c]]).toarray()\n",
    "\n",
    "#     # add to dataframe\n",
    "#     encoded = pd.concat([encoded, pd.DataFrame(features_arr, columns=encodedc)], axis = 1)\n",
    "\n",
    "# # drop original columns\n",
    "# for c in class_columns.keys():\n",
    "#     encoded.drop(c, axis = 1)"
   ]
  },
  {
   "cell_type": "code",
   "execution_count": 12,
   "metadata": {},
   "outputs": [],
   "source": [
    "from sklearn.preprocessing import RobustScaler\n",
    "\n",
    "\n",
    "rb = RobustScaler()\n",
    "\n",
    "scaled = cleaned_dataset\n",
    "\n",
    "columns = list(numeric_columns)\n",
    "\n",
    "for c in numeric_columns:\n",
    "    scaled[c] = rb.fit_transform(scaled[[c]])"
   ]
  },
  {
   "cell_type": "markdown",
   "metadata": {},
   "source": [
    "### BEGIN MODELLING"
   ]
  },
  {
   "cell_type": "markdown",
   "metadata": {},
   "source": [
    "The code below runs the model with random hyperparameters 2500 times. It records the performance of models in the `models` dataframe. <br>The next code block plots the accuracy of the models over these 2500 iterations to give an idea of overall quality of the cleaned dataset.\n",
    "<br><br>\n",
    "(Feel free to reduce the number of iterations `NUM_ITERATIONS` if it takes a long time. For us, 2500 takes around 10 seconds.)"
   ]
  },
  {
   "cell_type": "code",
   "execution_count": 59,
   "metadata": {},
   "outputs": [
    {
     "name": "stdout",
     "output_type": "stream",
     "text": [
      "Went through 100 iterations.\n",
      "Went through 200 iterations.\n",
      "Went through 300 iterations.\n",
      "Went through 400 iterations.\n",
      "Went through 500 iterations.\n",
      "Went through 600 iterations.\n",
      "Went through 700 iterations.\n",
      "Went through 800 iterations.\n",
      "Went through 900 iterations.\n",
      "Went through 1000 iterations.\n",
      "Went through 1100 iterations.\n",
      "Went through 1200 iterations.\n",
      "Went through 1300 iterations.\n",
      "Went through 1400 iterations.\n",
      "Went through 1500 iterations.\n",
      "Went through 1600 iterations.\n",
      "Went through 1700 iterations.\n",
      "Went through 1800 iterations.\n",
      "Went through 1900 iterations.\n",
      "Went through 2000 iterations.\n",
      "Went through 2100 iterations.\n",
      "Went through 2200 iterations.\n",
      "Went through 2300 iterations.\n",
      "Went through 2400 iterations.\n"
     ]
    }
   ],
   "source": [
    "NUM_ITERATIONS = 2500\n",
    "\n",
    "from sklearn import svm, metrics\n",
    "from sklearn.model_selection import train_test_split\n",
    "from random import randint, choice, uniform\n",
    "\n",
    "# separate target from rest of data set\n",
    "target = scaled['consume']\n",
    "data = scaled.drop(\"consume\", axis=1)\n",
    "\n",
    "# record the hyperparameters and results of the best performing models\n",
    "cols = ['splitsize', 'rs', 'kernel', 'degree', 'gamma', 'c', 'accuracy', 'precision', 'recall']\n",
    "models = pd.DataFrame(columns=cols)\n",
    "\n",
    "for ctr in range(NUM_ITERATIONS):\n",
    "    # pick random hyperparameters\n",
    "    hp = {\n",
    "        'splitsize': uniform(0.2, 0.3),\n",
    "        'rs': randint(1, 5000),  # random state of train-test split\n",
    "        'kernel': choice(('linear', 'sigmoid')),\n",
    "        'degree': randint(1, 5),\n",
    "        'gamma': choice(['scale', 'auto']),\n",
    "        'c': abs(uniform(1.0, 500.0))\n",
    "    }\n",
    "\n",
    "    # split data and target into train and test\n",
    "    train_data, test_data, train_tgt, test_tgt = train_test_split(scaled, target, test_size=hp['splitsize'], random_state = hp['rs'])  # 30% training\n",
    "\n",
    "    # train model\n",
    "    clf = svm.SVC(kernel='sigmoid')\n",
    "    clf.fit(train_data, train_tgt)\n",
    "\n",
    "    # prediction & evaluation\n",
    "    y_pred = clf.predict(test_data)\n",
    "    accuracy, precision, recall = metrics.accuracy_score(test_tgt, y_pred), metrics.precision_score(test_tgt, y_pred), metrics.recall_score(test_tgt, y_pred)\n",
    "    \n",
    "    if (not (ctr % 100) and ctr > 0): print(f'Went through {ctr} iterations.')\n",
    "\n",
    "    d = hp\n",
    "    d['accuracy'] = accuracy\n",
    "    d['precision'] = precision\n",
    "    d['recall'] = recall\n",
    "\n",
    "    models.at[str(ctr), :] = d\n",
    "   "
   ]
  },
  {
   "cell_type": "markdown",
   "metadata": {},
   "source": [
    "The code block below illustrates distribution of accuracy of models running on different hyperparameters.<br>The graph therefore shows the overall quality of the dataset (at least for this classification model).\n",
    "\n",
    "\n",
    "In any case, from the tests on our machines, the performance is amazing as is: averaging around 95% accuracy with less than 0.1 std across all iterations. \n",
    "\n",
    "<br>In our opinion, this is at an appropriate level. Therefore, we will not do any feature selection. 🙂"
   ]
  },
  {
   "cell_type": "code",
   "execution_count": 60,
   "metadata": {},
   "outputs": [
    {
     "data": {
      "image/png": "[encoded data removed]",
      "text/plain": [
       "<Figure size 432x288 with 1 Axes>"
      ]
     },
     "metadata": {
      "needs_background": "light"
     },
     "output_type": "display_data"
    }
   ],
   "source": [
    "from scipy.stats import norm\n",
    "import matplotlib.pyplot as plt\n",
    "import numpy as np\n",
    "\n",
    "models = models.astype({\"accuracy\": float, \"precision\": float, \"recall\": float})\n",
    "\n",
    "ac = models['accuracy']\n",
    "\n",
    "mu, std = norm.fit(ac) \n",
    "plt.hist(ac, bins=10, density=True, alpha=0.6, color='b')\n",
    "xmin, xmax = plt.xlim()\n",
    "x = np.linspace(xmin, xmax, 100)\n",
    "p = norm.pdf(x, mu, std)\n",
    "plt.plot(x, p, 'k', linewidth=2)\n",
    "title = \"Accuracy\\nmu: {:.3f} std:{:.2f}\".format(mu, std)\n",
    "plt.title(title)\n",
    "plt.xlabel(\"Model Accuracy\") \n",
    "plt.ylabel(\"Probability Density\")\n",
    "plt.show()"
   ]
  }
 ],
 "metadata": {
  "interpreter": {
   "hash": "9c33282580fabc83ccc24f32e11342aabaa625956561ddb73d4f78c402aba2f6"
  },
  "kernelspec": {
   "display_name": "Python 3.9.7 ('base')",
   "language": "python",
   "name": "python3"
  },
  "language_info": {
   "codemirror_mode": {
    "name": "ipython",
    "version": 3
   },
   "file_extension": ".py",
   "mimetype": "text/x-python",
   "name": "python",
   "nbconvert_exporter": "python",
   "pygments_lexer": "ipython3",
   "version": "3.9.7"
  },
  "orig_nbformat": 4
 },
 "nbformat": 4,
 "nbformat_minor": 2
}
